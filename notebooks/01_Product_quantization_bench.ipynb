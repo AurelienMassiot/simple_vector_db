{
 "cells": [
  {
   "cell_type": "code",
   "execution_count": null,
   "id": "f0104b5b4bb7a669",
   "metadata": {
    "ExecuteTime": {
     "end_time": "2023-12-08T20:10:23.366169Z",
     "start_time": "2023-12-08T20:10:23.330383Z"
    }
   },
   "outputs": [],
   "source": [
    "import numpy as np\n",
    "import pandas as pd\n",
    "%load_ext autoreload\n",
    "%autoreload 2"
   ]
  },
  {
   "cell_type": "code",
   "execution_count": null,
   "id": "initial_id",
   "metadata": {
    "ExecuteTime": {
     "end_time": "2023-12-08T20:10:23.914034Z",
     "start_time": "2023-12-08T20:10:23.366667Z"
    }
   },
   "outputs": [],
   "source": [
    "from simple_vector_db.quantization.vector_quantizer import VectorQuantizer\n",
    "from sklearn.metrics import mean_squared_error\n",
    "from sklearn.datasets import load_digits\n",
    "import pandas as pd\n",
    "import psutil\n",
    "import numpy as np\n",
    "import sys\n",
    "import seaborn as sns\n",
    "import dataget\n",
    "import random"
   ]
  },
  {
   "cell_type": "code",
   "execution_count": null,
   "id": "d0cb50e50d504608",
   "metadata": {
    "ExecuteTime": {
     "end_time": "2023-12-08T20:10:23.934443Z",
     "start_time": "2023-12-08T20:10:23.915539Z"
    }
   },
   "outputs": [],
   "source": [
    "def load_fashion_mnist(n_sample=1000):\n",
    "    X_train, y_train, X_test, y_test = dataget.image.fashion_mnist().get()\n",
    "    X = np.vstack([X_train, X_test])\n",
    "    images = []\n",
    "    for image in X:\n",
    "        images.append(image.flatten())\n",
    "    random.shuffle(images)\n",
    "    images = images[0:n_sample]\n",
    "    return images"
   ]
  },
  {
   "cell_type": "code",
   "execution_count": null,
   "id": "4be3535596215bd2",
   "metadata": {
    "ExecuteTime": {
     "end_time": "2023-12-08T20:10:23.957653Z",
     "start_time": "2023-12-08T20:10:23.935378Z"
    }
   },
   "outputs": [],
   "source": [
    "\n",
    "import numpy as np\n",
    "\n",
    "def taille_memoire(entier):\n",
    "    if np.iinfo(np.int8).min <= entier <= np.iinfo(np.int8).max:\n",
    "        return np.dtype(np.int8).itemsize\n",
    "    elif np.iinfo(np.int16).min <= entier <= np.iinfo(np.int16).max:\n",
    "        return np.dtype(np.int16).itemsize\n",
    "    elif np.iinfo(np.int32).min <= entier <= np.iinfo(np.int32).max:\n",
    "        return np.dtype(np.int32).itemsize\n",
    "    elif np.iinfo(np.int64).min <= entier <= np.iinfo(np.int64).max:\n",
    "        return np.dtype(np.int64).itemsize\n",
    "    else:\n",
    "        return None\n",
    "\n",
    "\n",
    "taille_memoire(9000000)"
   ]
  },
  {
   "cell_type": "code",
   "execution_count": null,
   "id": "73843baab79f51cb",
   "metadata": {
    "ExecuteTime": {
     "end_time": "2023-12-08T20:10:24.008296Z",
     "start_time": "2023-12-08T20:10:23.956887Z"
    }
   },
   "outputs": [],
   "source": [
    "vectors_to_quantize = load_digits().data\n",
    "#vectors_to_quantize = load_fashion_mnist()"
   ]
  },
  {
   "cell_type": "code",
   "execution_count": null,
   "id": "ed2b772f5c8ab49f",
   "metadata": {
    "ExecuteTime": {
     "end_time": "2023-12-08T20:17:16.061681Z",
     "start_time": "2023-12-08T20:15:51.138017Z"
    }
   },
   "outputs": [],
   "source": [
    "m_chunks_list = list(range(4, 64,4))\n",
    "res = []\n",
    "for m_chunk in [2]+m_chunks_list:\n",
    "    k_centroids_list = np.array(range(10, 500,25))\n",
    "    for k_centroids in k_centroids_list:\n",
    "        try:\n",
    "            quantizer = VectorQuantizer(m_chunks=m_chunk, nb_subspace_centroids=k_centroids)\n",
    "            quantized_vectors = quantizer.quantize_vectors(vectors_to_quantize)\n",
    "            #print(m_chunk, k_centroids, (vectors_to_quantize.size * vectors_to_quantize.itemsize) / 1024,\n",
    "            #      (quantized_vectors.size * quantized_vectors.itemsize) / 1024)\n",
    "            rebuilt_vector = quantizer.rebuild_vector(quantized_vectors[0])\n",
    "            compression_mse = mean_squared_error(vectors_to_quantize[0], rebuilt_vector)\n",
    "            res.append(\n",
    "                {\"Nombre de sections\": m_chunk, \"Nombre de centroïdes par section\": k_centroids,\n",
    "                 \"mesure MSE\": compression_mse,\n",
    "                 \"mémoire en kB\": (len(quantized_vectors) * m_chunk * taille_memoire(k_centroids)) / 1024})\n",
    "        except ValueError:\n",
    "            print(m_chunk, k_centroids, \"ERROR\")\n",
    "        res_df = pd.DataFrame(res)\n",
    "        res_df.to_csv(\"../figures/quantization_mse_vs_params_FMNIST.csv\")\n"
   ]
  },
  {
   "cell_type": "code",
   "execution_count": null,
   "id": "30e8185f41089633",
   "metadata": {
    "ExecuteTime": {
     "end_time": "2023-12-08T20:13:10.915732Z",
     "start_time": "2023-12-08T20:13:10.895113Z"
    }
   },
   "outputs": [],
   "source": [
    "colors = [\"#EE0023\", \"#0E2356\", \"#00AD00\", \"#00A3BE\", \"#00A795\", \"#FFE300\", \"#FF6200\", \"#9A78F0\", \"#9FA7BB\", \"#F899A7\"]\n",
    "custom_palette = sns.color_palette(colors)"
   ]
  },
  {
   "cell_type": "code",
   "execution_count": null,
   "id": "1a1a6c15f1bdc85",
   "metadata": {
    "ExecuteTime": {
     "end_time": "2023-12-08T20:13:11.107018Z",
     "start_time": "2023-12-08T20:13:10.916053Z"
    }
   },
   "outputs": [],
   "source": [
    "sns_plot = sns.scatterplot(data=res_df, x=\"Nombre de centroïdes par section\", y=\"mesure MSE\", hue=\"Nombre de sections\",\n",
    "                           palette=custom_palette)\n",
    "fig = sns_plot.get_figure()\n",
    "fig.savefig(\"../figures/mse_vs_params.png\")"
   ]
  },
  {
   "cell_type": "code",
   "execution_count": null,
   "id": "fe2c0e103193715d",
   "metadata": {
    "ExecuteTime": {
     "end_time": "2023-12-08T20:13:11.283500Z",
     "start_time": "2023-12-08T20:13:11.108590Z"
    }
   },
   "outputs": [],
   "source": [
    "sns_plot = sns.scatterplot(data=res_df, x=\"Nombre de centroïdes par section\", y=\"mémoire en kB\", hue=\"Nombre de sections\",\n",
    "                           palette=custom_palette)\n",
    "fig = sns_plot.get_figure()\n",
    "fig.savefig(\"../figures/memory_vs_params.png\")"
   ]
  },
  {
   "cell_type": "markdown",
   "id": "94cbdcdd368dd328",
   "metadata": {
    "collapsed": false
   },
   "source": [
    "## PQ parameters vs Recall "
   ]
  },
  {
   "cell_type": "code",
   "execution_count": null,
   "id": "41555538af6fae16",
   "metadata": {},
   "outputs": [],
   "source": [
    "bench_kmeans = pd.read_csv(\"../figures/bench_results_pq.csv\")\n",
    "sns_plot = sns.scatterplot(data=bench_kmeans, y=\"Nombre de centroïdes par section\", x=\"rappel @ 10\",\n",
    "                           hue=\"Nombre de sections\",\n",
    "                           palette=custom_palette)\n",
    "fig = sns_plot.get_figure()\n",
    "fig.savefig(\"../figures/pq_recall_vs_params.png\")"
   ]
  },
  {
   "cell_type": "markdown",
   "id": "ef442ea2fc25b95d",
   "metadata": {
    "collapsed": false
   },
   "source": [
    "## PQ RECALL VS SPEED"
   ]
  },
  {
   "cell_type": "code",
   "execution_count": null,
   "id": "662904e77c2b44e",
   "metadata": {},
   "outputs": [],
   "source": [
    "bench_kmeans.groupby(\"rappel @ 10\").agg({\"nb_requests_per_second\": \"mean\"})"
   ]
  },
  {
   "cell_type": "code",
   "execution_count": null,
   "id": "3a9ab3edc842742c",
   "metadata": {},
   "outputs": [],
   "source": [
    "\n",
    "sns_plot = sns.scatterplot(data=bench_kmeans, x=\"rappel @ 10\", y=\"Nombre de requêtes par seconde\",\n",
    "                           palette=custom_palette, hue=\"Nombre de sections\")\n",
    "fig = sns_plot.get_figure()\n",
    "fig.savefig(\"../figures/pq_recall_vs_speed.png\")"
   ]
  },
  {
   "cell_type": "code",
   "execution_count": null,
   "id": "349ec2ca3707448d",
   "metadata": {},
   "outputs": [],
   "source": [
    "\n",
    "sns_plot = sns.scatterplot(data=bench_kmeans, x=\"rappel @ 10\", y=\"Nombre de requêtes par seconde\",\n",
    "                           palette=custom_palette, hue=\"Nombre de centroïdes par section\")\n",
    "fig = sns_plot.get_figure()\n",
    "fig.savefig(\"../figures/pq_recall_vs_speed.png\")"
   ]
  },
  {
   "cell_type": "markdown",
   "id": "b9aa1246e1e5f94e",
   "metadata": {
    "collapsed": false
   },
   "source": [
    "## IVKMEANS parameters vs Recall "
   ]
  },
  {
   "cell_type": "code",
   "execution_count": null,
   "id": "df818b00f65bc6c9",
   "metadata": {},
   "outputs": [],
   "source": [
    "bench_kmeans = pd.read_csv(\"../figures/bench_results_kmeans.csv\")\n",
    "sns_plot = sns.scatterplot(data=bench_kmeans, y=\"Nombre de clusters\", x=\"Rappel @ 10\",\n",
    "                           hue=\"Valeur de n_probes\",\n",
    "                           palette=custom_palette)\n",
    "fig = sns_plot.get_figure()\n",
    "fig.savefig(\"../figures/kmeans_recall_vs_params.png\")"
   ]
  },
  {
   "cell_type": "code",
   "execution_count": null,
   "id": "9d3857962ad4e552",
   "metadata": {},
   "outputs": [],
   "source": [
    "sns_plot = sns.scatterplot(data=bench_kmeans, x=\"Rappel @ 10\", y=\"Nombre de requêtes par seconde\",\n",
    "                           palette=custom_palette, hue=\"Valeur de n_probes\")\n",
    "fig = sns_plot.get_figure()\n",
    "fig.savefig(\"../figures/kmeans_recall_vs_speed_clusters_nprobs.png\")"
   ]
  },
  {
   "cell_type": "code",
   "execution_count": null,
   "id": "aee730ce02128599",
   "metadata": {},
   "outputs": [],
   "source": [
    "bench_kmeans['Intervalle du nombre de clusters '] = pd.cut(bench_kmeans[\"Nombre de clusters\"], bins=5, precision=0)"
   ]
  },
  {
   "cell_type": "code",
   "execution_count": null,
   "id": "54edf46809412a9a",
   "metadata": {},
   "outputs": [],
   "source": [
    "sns_plot = sns.scatterplot(data=bench_kmeans, x=\"Rappel @ 10\", y=\"Nombre de requêtes par seconde\",\n",
    "                           palette=custom_palette, hue='Intervalle du nombre de clusters ')\n",
    "fig = sns_plot.get_figure()\n",
    "fig.savefig(\"../figures/kmeans_recall_vs_speed_clusters.png\")"
   ]
  },
  {
   "cell_type": "code",
   "execution_count": null,
   "id": "51b4435efde598db",
   "metadata": {},
   "outputs": [],
   "source": [
    "\n",
    "sns_plot = sns.scatterplot(data=bench_kmeans, x=\"Rappel @ 10\", y=\"Nombre de requêtes par seconde\",\n",
    "                           palette=custom_palette, hue='Intervalle du nombre de clusters ')\n",
    "fig = sns_plot.get_figure()\n",
    "fig.savefig(\"../figures/kmeans_recall_vs_speed_clusters.png\")"
   ]
  }
 ],
 "metadata": {
  "kernelspec": {
   "display_name": "Python 3",
   "language": "python",
   "name": "python3"
  },
  "language_info": {
   "codemirror_mode": {
    "name": "ipython",
    "version": 2
   },
   "file_extension": ".py",
   "mimetype": "text/x-python",
   "name": "python",
   "nbconvert_exporter": "python",
   "pygments_lexer": "ipython2",
   "version": "2.7.6"
  }
 },
 "nbformat": 4,
 "nbformat_minor": 5
}
